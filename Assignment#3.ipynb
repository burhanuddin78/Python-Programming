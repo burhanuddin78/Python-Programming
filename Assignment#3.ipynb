{
 "cells": [
  {
   "cell_type": "code",
   "execution_count": 29,
   "metadata": {},
   "outputs": [
    {
     "name": "stdout",
     "output_type": "stream",
     "text": [
      "Enter operator 12\n",
      "Enter operator 22\n",
      "Menu! \n",
      " 1.Addtion \n",
      " 2.Subtraction \n",
      " 3.Multiplication \n",
      " 4.Division \n",
      " 5.Power\n",
      "Choase Menu!5\n",
      "The substraction is  4\n"
     ]
    }
   ],
   "source": [
    "# Q1\n",
    "\n",
    "a = int(input(\"Enter operator 1\"))\n",
    "b = int(input(\"Enter operator 2\"))\n",
    "print(\"Menu! \\n 1.Addtion \\n 2.Subtraction \\n 3.Multiplication \\n 4.Division \\n 5.Power\")\n",
    "operator = int(input(\"Choase Menu!\\n\"))\n",
    "\n",
    "if operator == 1:\n",
    "    c = a + b\n",
    "    print(\"The sum is \", c)\n",
    "elif operator == 2:\n",
    "    c = a-b\n",
    "    print(\"The substraction is \",c)\n",
    "elif operator == 3:\n",
    "    c = a*b\n",
    "    print(\"The Multiplication is \",c)\n",
    "elif operator == 4:\n",
    "    c = a/b\n",
    "    print(\"The Division is \",c)\n",
    "elif operator == 5:\n",
    "    c = a**b\n",
    "    print(\"The substraction is \",c)\n",
    "else:\n",
    "    print(\"You choase wrong operator\")"
   ]
  },
  {
   "cell_type": "code",
   "execution_count": 75,
   "metadata": {},
   "outputs": [
    {
     "name": "stdout",
     "output_type": "stream",
     "text": [
      "Thr numeric value is in list  1\n",
      "Thr numeric value is in list  4\n"
     ]
    }
   ],
   "source": [
    "# Q2\n",
    "list = [1,\"Burhanuddin\",\"Imran\",4]\n",
    "num = [0,1,2,3,4,5,6,7,8,9]\n",
    "\n",
    "for a in list:\n",
    "    for b in num:\n",
    "        if (b ==a):\n",
    "            print(\"Thr numeric value is in list \", b)\n"
   ]
  },
  {
   "cell_type": "code",
   "execution_count": 88,
   "metadata": {},
   "outputs": [
    {
     "name": "stdout",
     "output_type": "stream",
     "text": [
      "{'a': 100, 'b': 200, 'c': 300}\n",
      "{'a': 100, 'b': 200, 'c': 300, 'd': 400}\n"
     ]
    }
   ],
   "source": [
    "#Q3\n",
    "d = {'a':100,'b':200,'c':300}\n",
    "print(d)\n",
    "d['d']=400\n",
    "print(d)"
   ]
  },
  {
   "cell_type": "code",
   "execution_count": 90,
   "metadata": {},
   "outputs": [
    {
     "name": "stdout",
     "output_type": "stream",
     "text": [
      "{'a': 100, 'b': 200, 'c': 300, 'd': 400}\n",
      "1000\n"
     ]
    }
   ],
   "source": [
    "#Q4\n",
    "print(d)\n",
    "print(sum(d.values()))"
   ]
  },
  {
   "cell_type": "code",
   "execution_count": 115,
   "metadata": {},
   "outputs": [
    {
     "name": "stdout",
     "output_type": "stream",
     "text": [
      "Duplicate: [1, 'burhan', 'burhan', 1]\n"
     ]
    }
   ],
   "source": [
    "#Q5\n",
    "list=[1,\"burhan\",\"burhan\",2,1]\n",
    "duplicate = []\n",
    "\n",
    "for a in list:\n",
    "    if list.count(a)>1:\n",
    "        duplicate.append(a)\n",
    "print(\"Duplicate:\",duplicate)\n",
    "   "
   ]
  },
  {
   "cell_type": "code",
   "execution_count": 121,
   "metadata": {},
   "outputs": [
    {
     "name": "stdout",
     "output_type": "stream",
     "text": [
      "Not present\n"
     ]
    }
   ],
   "source": [
    "#Q6\n",
    "dict = {'a': 100, 'b':200, 'c':300}\n",
    "\n",
    "key = 'w'\n",
    "if key in dict.keys():\n",
    "    print(\"Present,value =\", dict[key] )  \n",
    "else:\n",
    "    print(\"Not present\") "
   ]
  },
  {
   "cell_type": "code",
   "execution_count": null,
   "metadata": {},
   "outputs": [],
   "source": []
  }
 ],
 "metadata": {
  "kernelspec": {
   "display_name": "Python 3",
   "language": "python",
   "name": "python3"
  },
  "language_info": {
   "codemirror_mode": {
    "name": "ipython",
    "version": 3
   },
   "file_extension": ".py",
   "mimetype": "text/x-python",
   "name": "python",
   "nbconvert_exporter": "python",
   "pygments_lexer": "ipython3",
   "version": "3.7.4"
  }
 },
 "nbformat": 4,
 "nbformat_minor": 2
}
