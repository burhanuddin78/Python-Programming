{
 "cells": [
  {
   "cell_type": "code",
   "execution_count": null,
   "metadata": {},
   "outputs": [],
   "source": [
    "#Q1 Define Object Oriented Programming language ?\n",
    "\n",
    "Object-oriented programming aims to implement real-world entities like inheritance,\n",
    "hiding, polymorphism etc in programming. The main aim of OOP is to bind together the \n",
    "data and the functions that operate on them so that no other part of the code can access \n",
    "this data except that function.\n",
    "\n",
    "Oops has four pillar\n",
    "1. Inheritance\n",
    "2. Polymorphsim\n",
    "3. Encapsulation\n",
    "4. Abstraction\n"
   ]
  },
  {
   "cell_type": "code",
   "execution_count": 1,
   "metadata": {},
   "outputs": [
    {
     "ename": "SyntaxError",
     "evalue": "invalid syntax (<ipython-input-1-7946636edda2>, line 3)",
     "output_type": "error",
     "traceback": [
      "\u001b[1;36m  File \u001b[1;32m\"<ipython-input-1-7946636edda2>\"\u001b[1;36m, line \u001b[1;32m3\u001b[0m\n\u001b[1;33m    1.Reusablity\u001b[0m\n\u001b[1;37m               ^\u001b[0m\n\u001b[1;31mSyntaxError\u001b[0m\u001b[1;31m:\u001b[0m invalid syntax\n"
     ]
    }
   ],
   "source": [
    "#Q2 List Down the benifits of OOP?\n",
    "\n",
    "1.Reusablity (Inheritance)\n",
    "2.Hide the code outside the world (Encapsulation)\n",
    "3.Reduce Complexity\n",
    "4.Model the real world well\n",
    "5.same function used for multitasking\n",
    "6.Security"
   ]
  },
  {
   "cell_type": "code",
   "execution_count": null,
   "metadata": {},
   "outputs": [],
   "source": [
    "#Q3 Defferentiate between function and method?\n",
    "1. Simply, function and method both look similar as they perform in almost similar way,\n",
    "   but the key difference is the concept of ‘Class and its Object‘.\n",
    "    \n",
    "2. Functions can be called only by its name, as it is defined independently. But methods \n",
    "   can’t be called by its name only, we need to intevoke the class by a reference of that\n",
    "   class in which it is defined, i.e. method is defined within a class and hence they are  \n",
    "   dependent on that class."
   ]
  },
  {
   "cell_type": "code",
   "execution_count": null,
   "metadata": {},
   "outputs": [],
   "source": [
    "#Q4\n",
    "\n",
    "*Class\n",
    "  A class is a code template for creating objects. Objects have member variables and have behaviour\n",
    "    associated with them\n",
    "    \n",
    "*Object\n",
    "  An object is created using the constructor of the class. This object will then be called the instance \n",
    "    of the class.\n",
    "    \n",
    "*Attribute\n",
    "  An attribute is defined as a quality or characteristic of a person, place, or thing. Real life \n",
    "  individuals and fictional characters possess various attributes. \n",
    "\n",
    "*Behavior\n",
    "  The behavior of an object is defined by its methods, which are the functions and subroutines defined \n",
    "    within the object class. Without class methods, a class would simply be a structure."
   ]
  },
  {
   "cell_type": "code",
   "execution_count": null,
   "metadata": {},
   "outputs": [],
   "source": [
    "#Q5\n"
   ]
  }
 ],
 "metadata": {
  "kernelspec": {
   "display_name": "Python 3",
   "language": "python",
   "name": "python3"
  },
  "language_info": {
   "codemirror_mode": {
    "name": "ipython",
    "version": 3
   },
   "file_extension": ".py",
   "mimetype": "text/x-python",
   "name": "python",
   "nbconvert_exporter": "python",
   "pygments_lexer": "ipython3",
   "version": "3.6.1"
  }
 },
 "nbformat": 4,
 "nbformat_minor": 2
}
