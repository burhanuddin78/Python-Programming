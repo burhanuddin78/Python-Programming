{
 "cells": [
  {
   "cell_type": "code",
   "execution_count": 12,
   "metadata": {},
   "outputs": [
    {
     "name": "stdout",
     "output_type": "stream",
     "text": [
      "Enter Math scores90\n",
      "Enter Science scores80\n",
      "Enter Chemistry scores70\n",
      "Enter English scores80\n",
      "Enter Urdu Scores90\n",
      " Your Grade is A\n"
     ]
    }
   ],
   "source": [
    "#Q1 \n",
    "\n",
    "a = int(input(\"Enter Math scores\"))\n",
    "b = int(input(\"Enter Science scores\"))\n",
    "c = int(input(\"Enter Chemistry scores\"))\n",
    "d = int(input(\"Enter English scores\"))\n",
    "e = int(input(\"Enter Urdu Scores\"))\n",
    "\n",
    "sum = a+b+c+d+e\n",
    "avg = sum/5\n",
    "\n",
    "if(avg>=91 and avg<=100):\n",
    "    print(\" Your Grade is A+\")\n",
    "elif(avg>=81and avg<=90):\n",
    "    print(\" Your Grade is A\")\n",
    "elif(avg>=71and avg<=80):\n",
    "    print(\" Your Grade is B+\")\n",
    "elif(avg>=61and avg<=70):\n",
    "    print(\" Your Grade is B \")\n",
    "elif(avg>=51and avg<=60):\n",
    "    print(\" Your Grade is C\")\n",
    "    "
   ]
  },
  {
   "cell_type": "markdown",
   "metadata": {},
   "source": []
  },
  {
   "cell_type": "code",
   "execution_count": 18,
   "metadata": {},
   "outputs": [
    {
     "name": "stdout",
     "output_type": "stream",
     "text": [
      "Write any Number\n",
      "4\n",
      "Number is even: 4\n"
     ]
    }
   ],
   "source": [
    "# Q2\n",
    "\n",
    "print(\"Write any Number\")\n",
    "x = int(input())\n",
    "\n",
    "if (x%2 == 0):\n",
    "    print(\"Number is even:\",x)\n",
    "else:\n",
    "    print(\"Number is odd:\",x)\n",
    " \n"
   ]
  },
  {
   "cell_type": "code",
   "execution_count": 19,
   "metadata": {},
   "outputs": [
    {
     "name": "stdout",
     "output_type": "stream",
     "text": [
      "Lenght of list is : 5\n"
     ]
    }
   ],
   "source": [
    "# Q3\n",
    "\n",
    "a = [10,20,30,40,50]\n",
    "print(\"Lenght of list is :\",len(a))"
   ]
  },
  {
   "cell_type": "code",
   "execution_count": 48,
   "metadata": {},
   "outputs": [
    {
     "name": "stdout",
     "output_type": "stream",
     "text": [
      "30\n"
     ]
    }
   ],
   "source": [
    "# Q4\n",
    "a = [1, 4, 9, 16]\n",
    "sum = 0\n",
    "for x in a:\n",
    "    sum += x\n",
    "print (sum)"
   ]
  },
  {
   "cell_type": "code",
   "execution_count": 67,
   "metadata": {},
   "outputs": [
    {
     "name": "stdout",
     "output_type": "stream",
     "text": [
      "Largest number in list: 50\n"
     ]
    }
   ],
   "source": [
    "# Q5\n",
    "a = [1,2,50,5]\n",
    "\n",
    "print(\"Largest number in list:\",max(a))"
   ]
  },
  {
   "cell_type": "code",
   "execution_count": 80,
   "metadata": {},
   "outputs": [
    {
     "name": "stdout",
     "output_type": "stream",
     "text": [
      "[1, 1, 2, 3]\n"
     ]
    }
   ],
   "source": [
    "# Q6\n",
    "\n",
    "a = [1,1,2,3,5,8,13,21,34,55,89]\n",
    "\n",
    "empty_list = []\n",
    "\n",
    "for x in a:\n",
    "    if x < 5:\n",
    "        empty_list.append(x)\n",
    "print(empty_list)"
   ]
  }
 ],
 "metadata": {
  "kernelspec": {
   "display_name": "Python 3",
   "language": "python",
   "name": "python3"
  },
  "language_info": {
   "codemirror_mode": {
    "name": "ipython",
    "version": 3
   },
   "file_extension": ".py",
   "mimetype": "text/x-python",
   "name": "python",
   "nbconvert_exporter": "python",
   "pygments_lexer": "ipython3",
   "version": "3.7.4"
  }
 },
 "nbformat": 4,
 "nbformat_minor": 2
}
