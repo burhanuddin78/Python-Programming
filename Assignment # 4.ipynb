{
 "cells": [
  {
   "cell_type": "code",
   "execution_count": 4,
   "metadata": {},
   "outputs": [
    {
     "name": "stdout",
     "output_type": "stream",
     "text": [
      "{'first_name': 'Burhanuddin', 'last_name': 'Imran', 'age': 20, 'city': 'karachi'}\n",
      "{'first_name': 'Burhanuddin', 'last_name': 'Imran', 'age': 20, 'city': 'karachi', 'qualification': 'inter'}\n",
      "{'first_name': 'Burhanuddin', 'last_name': 'Imran', 'age': 20, 'city': 'karachi', 'qualification': 'undergraduate'}\n",
      "<class 'dict'>\n"
     ]
    }
   ],
   "source": [
    "#Question1:\n",
    "\n",
    "dict = {'first_name':'Burhanuddin', 'last_name':'Imran', 'age':20, 'city':'karachi'}\n",
    "print(dict)\n",
    "\n",
    "dict.update({'qualification':'inter'})\n",
    "print(dict)\n",
    "\n",
    "dict ['qualification'] = 'undergraduate'\n",
    "print(dict)\n",
    "\n",
    "del dict\n",
    "print(dict)"
   ]
  },
  {
   "cell_type": "code",
   "execution_count": 5,
   "metadata": {},
   "outputs": [
    {
     "name": "stdout",
     "output_type": "stream",
     "text": [
      "{'country': 'Pakistan', 'population': '14.91 million', 'fact': 'Karachi is among the cheapest city to live in'}\n"
     ]
    }
   ],
   "source": [
    "#Question2\n",
    "cities = {'karachi' : {'country':'Pakistan', 'population':'14.91 million', 'fact':'Karachi is among the cheapest city to live in'},\n",
    "          'lahore': {'country':'Pakistan', 'population':'11.13 million', 'fact':'Lahore is the capital city of the Pakistani province of Punjab.'},\n",
    "          'astore' : {'country':'Pakistan', 'population':'70,000', 'fact':'beautiful city in the world.'}\n",
    "          }\n",
    "\n",
    "print(cities['karachi'])"
   ]
  },
  {
   "cell_type": "code",
   "execution_count": 6,
   "metadata": {},
   "outputs": [
    {
     "name": "stdout",
     "output_type": "stream",
     "text": [
      "Write your age 10\n",
      "The ticket is $10\n"
     ]
    }
   ],
   "source": [
    "#Question 3\n",
    "age =  int(input(\"Write your age \"))\n",
    "\n",
    "if age == 3:\n",
    "    print(\"The ticket is free\")\n",
    "elif age >= 3 and age<=12 :\n",
    "    print(\"The ticket is $10\")\n",
    "elif age >= 12:\n",
    "    print(\"The ticket is $15\")\n",
    "else:\n",
    "    print(\"something wrong!\")"
   ]
  },
  {
   "cell_type": "code",
   "execution_count": 7,
   "metadata": {},
   "outputs": [
    {
     "name": "stdout",
     "output_type": "stream",
     "text": [
      "'Smart ways to learn Python'\n"
     ]
    }
   ],
   "source": [
    "#question4\n",
    "\n",
    "def favorite_book(tittle):\n",
    "    return print(tittle)\n",
    "    \n",
    "\n",
    "favorite_book(\"'Smart ways to learn Python'\")"
   ]
  },
  {
   "cell_type": "code",
   "execution_count": 8,
   "metadata": {},
   "outputs": [
    {
     "name": "stdout",
     "output_type": "stream",
     "text": [
      "Guess the corret number12\n",
      "Number is smaller\n",
      "Guess the corret number15\n",
      "Number is smaller\n",
      "Guess the corret number19\n",
      "Number is smaller\n",
      "correct number is:  23\n"
     ]
    }
   ],
   "source": [
    "#question5\n",
    "\n",
    "import random \n",
    "\n",
    "random_number = random.randrange(1,30)\n",
    "\n",
    "for i in range(3):\n",
    "    guess = int(input(\"Guess the corret number\"))\n",
    "    if guess > random_number:\n",
    "        print(\"Number is greater\")\n",
    "    elif guess < random_number:\n",
    "        print(\"Number is smaller\")\n",
    "    elif guess == random_number:\n",
    "        print(\"Corret\")\n",
    "\n",
    "print(\"correct number is: \",random_number)\n"
   ]
  },
  {
   "cell_type": "code",
   "execution_count": null,
   "metadata": {},
   "outputs": [],
   "source": []
  }
 ],
 "metadata": {
  "kernelspec": {
   "display_name": "Python 3",
   "language": "python",
   "name": "python3"
  },
  "language_info": {
   "codemirror_mode": {
    "name": "ipython",
    "version": 3
   },
   "file_extension": ".py",
   "mimetype": "text/x-python",
   "name": "python",
   "nbconvert_exporter": "python",
   "pygments_lexer": "ipython3",
   "version": "3.7.4"
  }
 },
 "nbformat": 4,
 "nbformat_minor": 2
}
