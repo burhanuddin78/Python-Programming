{
 "cells": [
  {
   "cell_type": "code",
   "execution_count": 1,
   "metadata": {},
   "outputs": [
    {
     "name": "stdout",
     "output_type": "stream",
     "text": [
      "6\n"
     ]
    }
   ],
   "source": [
    "#Q1\n",
    "\n",
    "def factorial(n):\n",
    "    if n == 1:\n",
    "        return n\n",
    "    else:\n",
    "        return n*factorial(n-1)\n",
    "    \n",
    "    \n",
    "print(factorial(3))"
   ]
  },
  {
   "cell_type": "code",
   "execution_count": 2,
   "metadata": {},
   "outputs": [
    {
     "name": "stdout",
     "output_type": "stream",
     "text": [
      "Enter string: Burhan Imran\n",
      "The number of lowercase:  9\n",
      "The number of uppercase:  2\n"
     ]
    }
   ],
   "source": [
    "#Q2\n",
    "\n",
    "calculatestring  =  input(\"Enter string: \")\n",
    "a=0\n",
    "b=0\n",
    "\n",
    "for i in calculatestring:\n",
    "    if (i.islower()):\n",
    "        a=a+1\n",
    "    elif (i.isupper()):\n",
    "        b=b+1\n",
    "print(\"The number of lowercase: \",a)\n",
    "print(\"The number of uppercase: \",b)\n"
   ]
  },
  {
   "cell_type": "code",
   "execution_count": 3,
   "metadata": {},
   "outputs": [
    {
     "name": "stdout",
     "output_type": "stream",
     "text": [
      "The even number are:  [0, 2, 4, 6]\n"
     ]
    }
   ],
   "source": [
    "#Q3\n",
    "\n",
    "list = [0,1,2,3,4,5,6]\n",
    "even = []\n",
    "for i in list:\n",
    "    if (i % 2) == 0:\n",
    "        even.append(i)\n",
    "                \n",
    "print(\"The even number are: \",even)\n"
   ]
  },
  {
   "cell_type": "code",
   "execution_count": 4,
   "metadata": {},
   "outputs": [
    {
     "name": "stdout",
     "output_type": "stream",
     "text": [
      "Enter String: abbbbba\n",
      "yes\n"
     ]
    }
   ],
   "source": [
    "#Q4\n",
    "\n",
    "str = input(\"Enter String: \")\n",
    "a=\"\"\n",
    "for i in str:\n",
    "    a  = i + a \n",
    "    if(a == i):\n",
    "        print(\"yes\")"
   ]
  },
  {
   "cell_type": "code",
   "execution_count": 22,
   "metadata": {},
   "outputs": [
    {
     "name": "stdout",
     "output_type": "stream",
     "text": [
      "12 is not a prime number\n"
     ]
    }
   ],
   "source": [
    "#Q5\n",
    "\n",
    "def primenumber(n):\n",
    "    for x in range(2,n):\n",
    "        if (n % x):\n",
    "            return print(n, \"is prime number\")\n",
    "        else:\n",
    "            return print(n, \"is not a prime number\")\n",
    "\n",
    "            \n",
    "            \n",
    "primenumber(12)"
   ]
  },
  {
   "cell_type": "code",
   "execution_count": 21,
   "metadata": {},
   "outputs": [
    {
     "name": "stdout",
     "output_type": "stream",
     "text": [
      "Rice\n",
      "onion\n",
      "OIL\n"
     ]
    }
   ],
   "source": [
    "#Q6\n",
    "def shoppinnglist(*lists):\n",
    "    for list in lists:\n",
    "        print(list)\n",
    "        \n",
    "shoppinglist(\"Rice\",\"onion\",\"OIL\")"
   ]
  },
  {
   "cell_type": "code",
   "execution_count": null,
   "metadata": {},
   "outputs": [],
   "source": []
  }
 ],
 "metadata": {
  "kernelspec": {
   "display_name": "Python 3",
   "language": "python",
   "name": "python3"
  },
  "language_info": {
   "codemirror_mode": {
    "name": "ipython",
    "version": 3
   },
   "file_extension": ".py",
   "mimetype": "text/x-python",
   "name": "python",
   "nbconvert_exporter": "python",
   "pygments_lexer": "ipython3",
   "version": "3.7.4"
  }
 },
 "nbformat": 4,
 "nbformat_minor": 2
}
